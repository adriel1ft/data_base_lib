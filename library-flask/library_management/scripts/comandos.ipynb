{
 "cells": [
  {
   "cell_type": "code",
   "execution_count": 2,
   "metadata": {},
   "outputs": [],
   "source": [
    "import mysql.connector\n",
    "import random\n",
    "from dotenv import load_dotenv\n",
    "import os"
   ]
  },
  {
   "cell_type": "code",
   "execution_count": null,
   "metadata": {},
   "outputs": [],
   "source": [
    "# interessante para saber: criação de senha aleatória\n",
    "#all_characters = string.ascii_letters + string.digits \n",
    "#password = ''.join(random.choices(all_characters, k=length))\n",
    "#+ string.punctuation"
   ]
  },
  {
   "cell_type": "code",
   "execution_count": 7,
   "metadata": {},
   "outputs": [],
   "source": [
    "load_dotenv()\n",
    "\n",
    "\n",
    "conexao = mysql.connector.connect(\n",
    "    host = os.getenv(\"FLASK_DB_HOST\"),\n",
    "    user = os.getenv(\"FLASK_DB_USER\"),\n",
    "    password = os.getenv(\"FLASK_DB_PASSWORD\"),\n",
    "    database = os.getenv(\"FLASK_DB_NAME\"),\n",
    "    port = os.getenv(\"FLASK_DB_PORT\"),\n",
    "    ssl_disabled=True\n",
    ")"
   ]
  },
  {
   "cell_type": "code",
   "execution_count": null,
   "metadata": {},
   "outputs": [],
   "source": [
    "def fazer_query(query):\n",
    "    cursor = conexao.cursor()\n",
    "    cursor.execute(query)\n",
    "    conexao.commit()\n",
    "    cursor.close()"
   ]
  },
  {
   "cell_type": "markdown",
   "metadata": {},
   "source": [
    "NÃO RODAR AS CÉLULAS NOVAMENTE"
   ]
  },
  {
   "cell_type": "code",
   "execution_count": 4,
   "metadata": {},
   "outputs": [
    {
     "name": "stdout",
     "output_type": "stream",
     "text": [
      "Backup de emprestimos feito com sucesso\n"
     ]
    }
   ],
   "source": [
    "# Fazendo backup de emprestimos\n",
    "\n",
    "queries = [\n",
    "'CREATE TABLE emprestimos_backup AS SELECT * FROM emprestimos',\n",
    "'DROP TABLE emprestimos;'\n",
    "] #seria bom para caso tivesse dados em emprestimos, mas como não tem, não é necessário\n",
    "\n",
    "for query in queries:\n",
    "    cursor = conexao.cursor()\n",
    "    cursor.execute(query)\n",
    "conexao.commit()\n",
    "cursor.close()\n",
    "print(\"Backup de emprestimos feito com sucesso\")"
   ]
  },
  {
   "cell_type": "code",
   "execution_count": 7,
   "metadata": {},
   "outputs": [
    {
     "name": "stdout",
     "output_type": "stream",
     "text": [
      "Alteração de matricula feita com sucesso\n"
     ]
    }
   ],
   "source": [
    "#alterando matricula\n",
    "\n",
    "query = 'ALTER TABLE alunos MODIFY COLUMN matricula VARCHAR(9) NOT NULL;'\n",
    "cursor = conexao.cursor()\n",
    "cursor.execute(query)\n",
    "conexao.commit()\n",
    "cursor.close()\n",
    "print(\"Alteração de matricula feita com sucesso\")"
   ]
  },
  {
   "cell_type": "code",
   "execution_count": 5,
   "metadata": {},
   "outputs": [
    {
     "name": "stdout",
     "output_type": "stream",
     "text": [
      "Tabela emprestimos recriada com sucesso\n"
     ]
    }
   ],
   "source": [
    "# recriando emprestimos\n",
    "\n",
    "query = '''CREATE TABLE emprestimos(\n",
    "    id_emprestimo INT NOT NULL PRIMARY KEY,\n",
    "    id_aluno VARCHAR(9) NOT NULL,\n",
    "    id_livro INT NOT NULL,\n",
    "    data_emprestimo DATE NOT NULL,\n",
    "    data_prevista_devolucao DATE NOT NULL,\n",
    "    data_real_devolucao DATE DEFAULT NULL,\n",
    "    status ENUM('emprestado', 'devolvido', 'em atraso') DEFAULT 'emprestado',\n",
    "    multa DECIMAL(5,2) DEFAULT NULL,\n",
    "    FOREIGN KEY (id_aluno) REFERENCES alunos(matricula),\n",
    "    FOREIGN KEY (id_livro) REFERENCES livros(id_livro))'''\n",
    "cursor = conexao.cursor()\n",
    "cursor.execute(query)\n",
    "conexao.commit()\n",
    "cursor.close()\n",
    "print(\"Tabela emprestimos recriada com sucesso\")"
   ]
  },
  {
   "cell_type": "code",
   "execution_count": 8,
   "metadata": {},
   "outputs": [
    {
     "data": {
      "text/plain": [
       "True"
      ]
     },
     "execution_count": 8,
     "metadata": {},
     "output_type": "execute_result"
    }
   ],
   "source": [
    "cursor = conexao.cursor()\n",
    "cursor.execute('ALTER TABLE emprestimos MODIFY COLUMN multa DECIMAL(5,2) DEFAULT 0.00;')\n",
    "conexao.commit()\n",
    "cursor.close()"
   ]
  }
 ],
 "metadata": {
  "kernelspec": {
   "display_name": "env",
   "language": "python",
   "name": "python3"
  },
  "language_info": {
   "codemirror_mode": {
    "name": "ipython",
    "version": 3
   },
   "file_extension": ".py",
   "mimetype": "text/x-python",
   "name": "python",
   "nbconvert_exporter": "python",
   "pygments_lexer": "ipython3",
   "version": "3.9.12"
  }
 },
 "nbformat": 4,
 "nbformat_minor": 2
}
